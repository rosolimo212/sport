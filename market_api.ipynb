{
 "cells": [
  {
   "cell_type": "code",
   "execution_count": 1,
   "id": "aebddbea",
   "metadata": {},
   "outputs": [],
   "source": [
    "# coding: utf-8\n",
    "# наше всё\n",
    "import numpy as np\n",
    "import pandas as pd\n",
    "\n",
    "#настройки pandas, с которыми лучше почти всегда\n",
    "pd.set_option('display.max_rows', 45000)\n",
    "pd.set_option('display.max_columns', 50000)\n",
    "pd.set_option('display.max_colwidth', 5000)\n",
    "\n",
    "import ast\n",
    "import ts_gd as gd"
   ]
  },
  {
   "cell_type": "code",
   "execution_count": 4,
   "id": "7dade874",
   "metadata": {},
   "outputs": [],
   "source": [
    "def get_events_list():\n",
    "    import requests\n",
    "\n",
    "    params = (\n",
    "        ('bk_name', 'liga_stavok'),\n",
    "        ('sport', 'soccer'),\n",
    "        ('token', '79b4fd9c0671e8ff0fb77d9f8361ec10'),\n",
    "        ('live', '0'),\n",
    "    )\n",
    "\n",
    "    r = requests.get('http://api.oddscp.com:8111/markets', \n",
    "                     params=params)\n",
    "    print(r.status_code)    \n",
    "    \n",
    "    return r.json()\n",
    "\n",
    "# на входе - одна строчка\n",
    "def prepair_bet_data(bet_json):\n",
    "    from datetime import datetime\n",
    "    \n",
    "    df=pd.DataFrame.from_dict(bet_json, orient='index').T  \n",
    "    df['meta']=df['meta'].apply(ast.literal_eval)\n",
    "    df['description']=pd.json_normalize(df['meta'])['marketTitle']\n",
    "    df['updated_at_msc']=df['updated_at'].apply(\n",
    "        lambda x: datetime.utcfromtimestamp(int(x)).strftime('%Y-%m-%d %H:%M:%S'))\n",
    "    \n",
    "    df=df[['bet', 'cf', 'description', 'updated_at', 'updated_at_msc', 'blocked']]\n",
    "    \n",
    "    return df\n",
    "\n",
    "def get_event_data(event_id):\n",
    "    import requests\n",
    "    params = (\n",
    "            ('token', '79b4fd9c0671e8ff0fb77d9f8361ec10'),\n",
    "            ('live', '0'),\n",
    "                )\n",
    "    r = requests.get('http://api.oddscp.com:8111/events/'+str(event_id), params=params)\n",
    "    return r.json()"
   ]
  },
  {
   "cell_type": "code",
   "execution_count": 5,
   "id": "1b0d6d80",
   "metadata": {},
   "outputs": [
    {
     "name": "stdout",
     "output_type": "stream",
     "text": [
      "404\n"
     ]
    },
    {
     "data": {
      "text/plain": [
       "''"
      ]
     },
     "execution_count": 5,
     "metadata": {},
     "output_type": "execute_result"
    }
   ],
   "source": [
    "get_events_list()"
   ]
  },
  {
   "cell_type": "code",
   "execution_count": 3,
   "id": "009715e6",
   "metadata": {},
   "outputs": [
    {
     "name": "stdout",
     "output_type": "stream",
     "text": [
      "404\n"
     ]
    },
    {
     "ename": "JSONDecodeError",
     "evalue": "Expecting value: line 1 column 1 (char 0)",
     "output_type": "error",
     "traceback": [
      "\u001b[0;31m---------------------------------------------------------------------------\u001b[0m",
      "\u001b[0;31mJSONDecodeError\u001b[0m                           Traceback (most recent call last)",
      "\u001b[0;32m<timed exec>\u001b[0m in \u001b[0;36m<module>\u001b[0;34m\u001b[0m\n",
      "\u001b[0;32m<ipython-input-2-10e576b9e6d0>\u001b[0m in \u001b[0;36mget_events_list\u001b[0;34m()\u001b[0m\n\u001b[1;32m     13\u001b[0m     \u001b[0mprint\u001b[0m\u001b[0;34m(\u001b[0m\u001b[0mr\u001b[0m\u001b[0;34m.\u001b[0m\u001b[0mstatus_code\u001b[0m\u001b[0;34m)\u001b[0m\u001b[0;34m\u001b[0m\u001b[0;34m\u001b[0m\u001b[0m\n\u001b[1;32m     14\u001b[0m \u001b[0;34m\u001b[0m\u001b[0m\n\u001b[0;32m---> 15\u001b[0;31m     \u001b[0;32mreturn\u001b[0m \u001b[0mr\u001b[0m\u001b[0;34m.\u001b[0m\u001b[0mjson\u001b[0m\u001b[0;34m(\u001b[0m\u001b[0;34m)\u001b[0m\u001b[0;34m\u001b[0m\u001b[0;34m\u001b[0m\u001b[0m\n\u001b[0m\u001b[1;32m     16\u001b[0m \u001b[0;34m\u001b[0m\u001b[0m\n\u001b[1;32m     17\u001b[0m \u001b[0;31m# на входе - одна строчка\u001b[0m\u001b[0;34m\u001b[0m\u001b[0;34m\u001b[0m\u001b[0;34m\u001b[0m\u001b[0m\n",
      "\u001b[0;32m~/anaconda3/lib/python3.8/site-packages/requests/models.py\u001b[0m in \u001b[0;36mjson\u001b[0;34m(self, **kwargs)\u001b[0m\n\u001b[1;32m    898\u001b[0m                     \u001b[0;31m# used.\u001b[0m\u001b[0;34m\u001b[0m\u001b[0;34m\u001b[0m\u001b[0;34m\u001b[0m\u001b[0m\n\u001b[1;32m    899\u001b[0m                     \u001b[0;32mpass\u001b[0m\u001b[0;34m\u001b[0m\u001b[0;34m\u001b[0m\u001b[0m\n\u001b[0;32m--> 900\u001b[0;31m         \u001b[0;32mreturn\u001b[0m \u001b[0mcomplexjson\u001b[0m\u001b[0;34m.\u001b[0m\u001b[0mloads\u001b[0m\u001b[0;34m(\u001b[0m\u001b[0mself\u001b[0m\u001b[0;34m.\u001b[0m\u001b[0mtext\u001b[0m\u001b[0;34m,\u001b[0m \u001b[0;34m**\u001b[0m\u001b[0mkwargs\u001b[0m\u001b[0;34m)\u001b[0m\u001b[0;34m\u001b[0m\u001b[0;34m\u001b[0m\u001b[0m\n\u001b[0m\u001b[1;32m    901\u001b[0m \u001b[0;34m\u001b[0m\u001b[0m\n\u001b[1;32m    902\u001b[0m     \u001b[0;34m@\u001b[0m\u001b[0mproperty\u001b[0m\u001b[0;34m\u001b[0m\u001b[0;34m\u001b[0m\u001b[0m\n",
      "\u001b[0;32m~/anaconda3/lib/python3.8/json/__init__.py\u001b[0m in \u001b[0;36mloads\u001b[0;34m(s, cls, object_hook, parse_float, parse_int, parse_constant, object_pairs_hook, **kw)\u001b[0m\n\u001b[1;32m    355\u001b[0m             \u001b[0mparse_int\u001b[0m \u001b[0;32mis\u001b[0m \u001b[0;32mNone\u001b[0m \u001b[0;32mand\u001b[0m \u001b[0mparse_float\u001b[0m \u001b[0;32mis\u001b[0m \u001b[0;32mNone\u001b[0m \u001b[0;32mand\u001b[0m\u001b[0;34m\u001b[0m\u001b[0;34m\u001b[0m\u001b[0m\n\u001b[1;32m    356\u001b[0m             parse_constant is None and object_pairs_hook is None and not kw):\n\u001b[0;32m--> 357\u001b[0;31m         \u001b[0;32mreturn\u001b[0m \u001b[0m_default_decoder\u001b[0m\u001b[0;34m.\u001b[0m\u001b[0mdecode\u001b[0m\u001b[0;34m(\u001b[0m\u001b[0ms\u001b[0m\u001b[0;34m)\u001b[0m\u001b[0;34m\u001b[0m\u001b[0;34m\u001b[0m\u001b[0m\n\u001b[0m\u001b[1;32m    358\u001b[0m     \u001b[0;32mif\u001b[0m \u001b[0mcls\u001b[0m \u001b[0;32mis\u001b[0m \u001b[0;32mNone\u001b[0m\u001b[0;34m:\u001b[0m\u001b[0;34m\u001b[0m\u001b[0;34m\u001b[0m\u001b[0m\n\u001b[1;32m    359\u001b[0m         \u001b[0mcls\u001b[0m \u001b[0;34m=\u001b[0m \u001b[0mJSONDecoder\u001b[0m\u001b[0;34m\u001b[0m\u001b[0;34m\u001b[0m\u001b[0m\n",
      "\u001b[0;32m~/anaconda3/lib/python3.8/json/decoder.py\u001b[0m in \u001b[0;36mdecode\u001b[0;34m(self, s, _w)\u001b[0m\n\u001b[1;32m    335\u001b[0m \u001b[0;34m\u001b[0m\u001b[0m\n\u001b[1;32m    336\u001b[0m         \"\"\"\n\u001b[0;32m--> 337\u001b[0;31m         \u001b[0mobj\u001b[0m\u001b[0;34m,\u001b[0m \u001b[0mend\u001b[0m \u001b[0;34m=\u001b[0m \u001b[0mself\u001b[0m\u001b[0;34m.\u001b[0m\u001b[0mraw_decode\u001b[0m\u001b[0;34m(\u001b[0m\u001b[0ms\u001b[0m\u001b[0;34m,\u001b[0m \u001b[0midx\u001b[0m\u001b[0;34m=\u001b[0m\u001b[0m_w\u001b[0m\u001b[0;34m(\u001b[0m\u001b[0ms\u001b[0m\u001b[0;34m,\u001b[0m \u001b[0;36m0\u001b[0m\u001b[0;34m)\u001b[0m\u001b[0;34m.\u001b[0m\u001b[0mend\u001b[0m\u001b[0;34m(\u001b[0m\u001b[0;34m)\u001b[0m\u001b[0;34m)\u001b[0m\u001b[0;34m\u001b[0m\u001b[0;34m\u001b[0m\u001b[0m\n\u001b[0m\u001b[1;32m    338\u001b[0m         \u001b[0mend\u001b[0m \u001b[0;34m=\u001b[0m \u001b[0m_w\u001b[0m\u001b[0;34m(\u001b[0m\u001b[0ms\u001b[0m\u001b[0;34m,\u001b[0m \u001b[0mend\u001b[0m\u001b[0;34m)\u001b[0m\u001b[0;34m.\u001b[0m\u001b[0mend\u001b[0m\u001b[0;34m(\u001b[0m\u001b[0;34m)\u001b[0m\u001b[0;34m\u001b[0m\u001b[0;34m\u001b[0m\u001b[0m\n\u001b[1;32m    339\u001b[0m         \u001b[0;32mif\u001b[0m \u001b[0mend\u001b[0m \u001b[0;34m!=\u001b[0m \u001b[0mlen\u001b[0m\u001b[0;34m(\u001b[0m\u001b[0ms\u001b[0m\u001b[0;34m)\u001b[0m\u001b[0;34m:\u001b[0m\u001b[0;34m\u001b[0m\u001b[0;34m\u001b[0m\u001b[0m\n",
      "\u001b[0;32m~/anaconda3/lib/python3.8/json/decoder.py\u001b[0m in \u001b[0;36mraw_decode\u001b[0;34m(self, s, idx)\u001b[0m\n\u001b[1;32m    353\u001b[0m             \u001b[0mobj\u001b[0m\u001b[0;34m,\u001b[0m \u001b[0mend\u001b[0m \u001b[0;34m=\u001b[0m \u001b[0mself\u001b[0m\u001b[0;34m.\u001b[0m\u001b[0mscan_once\u001b[0m\u001b[0;34m(\u001b[0m\u001b[0ms\u001b[0m\u001b[0;34m,\u001b[0m \u001b[0midx\u001b[0m\u001b[0;34m)\u001b[0m\u001b[0;34m\u001b[0m\u001b[0;34m\u001b[0m\u001b[0m\n\u001b[1;32m    354\u001b[0m         \u001b[0;32mexcept\u001b[0m \u001b[0mStopIteration\u001b[0m \u001b[0;32mas\u001b[0m \u001b[0merr\u001b[0m\u001b[0;34m:\u001b[0m\u001b[0;34m\u001b[0m\u001b[0;34m\u001b[0m\u001b[0m\n\u001b[0;32m--> 355\u001b[0;31m             \u001b[0;32mraise\u001b[0m \u001b[0mJSONDecodeError\u001b[0m\u001b[0;34m(\u001b[0m\u001b[0;34m\"Expecting value\"\u001b[0m\u001b[0;34m,\u001b[0m \u001b[0ms\u001b[0m\u001b[0;34m,\u001b[0m \u001b[0merr\u001b[0m\u001b[0;34m.\u001b[0m\u001b[0mvalue\u001b[0m\u001b[0;34m)\u001b[0m \u001b[0;32mfrom\u001b[0m \u001b[0;32mNone\u001b[0m\u001b[0;34m\u001b[0m\u001b[0;34m\u001b[0m\u001b[0m\n\u001b[0m\u001b[1;32m    356\u001b[0m         \u001b[0;32mreturn\u001b[0m \u001b[0mobj\u001b[0m\u001b[0;34m,\u001b[0m \u001b[0mend\u001b[0m\u001b[0;34m\u001b[0m\u001b[0;34m\u001b[0m\u001b[0m\n",
      "\u001b[0;31mJSONDecodeError\u001b[0m: Expecting value: line 1 column 1 (char 0)"
     ]
    }
   ],
   "source": [
    "%%time\n",
    "answ=get_events_list()\n",
    "print(len(answ.keys()))\n",
    "daily_df=pd.DataFrame()\n",
    "for event_id in answ.keys():\n",
    "    bets=answ[event_id]\n",
    "    event_json=get_event_data(event_id)\n",
    "\n",
    "    df=pd.DataFrame()\n",
    "    for i in range(len(bets)):\n",
    "        b=prepair_bet_data(bets[i])\n",
    "        df=pd.concat([df, b])\n",
    "\n",
    "    df['event_id']=event_id\n",
    "    df['event_name']=event_json['event_name']\n",
    "    df['team1']=event_json['team1']\n",
    "    df['team2']=event_json['team2']\n",
    "    df['league_name']=event_json['league_name']\n",
    "    df['url']=event_json['direct_link']\n",
    "    \n",
    "    print(event_json['event_name'])\n",
    "    \n",
    "    daily_df=pd.concat([daily_df, df])\n",
    "    \n"
   ]
  },
  {
   "cell_type": "code",
   "execution_count": 37,
   "id": "bd88fd07",
   "metadata": {},
   "outputs": [
    {
     "data": {
      "text/plain": [
       "39595"
      ]
     },
     "execution_count": 37,
     "metadata": {},
     "output_type": "execute_result"
    }
   ],
   "source": [
    "len(daily_df)"
   ]
  },
  {
   "cell_type": "code",
   "execution_count": 38,
   "id": "e7a47f5f",
   "metadata": {},
   "outputs": [
    {
     "data": {
      "text/html": [
       "<div>\n",
       "<style scoped>\n",
       "    .dataframe tbody tr th:only-of-type {\n",
       "        vertical-align: middle;\n",
       "    }\n",
       "\n",
       "    .dataframe tbody tr th {\n",
       "        vertical-align: top;\n",
       "    }\n",
       "\n",
       "    .dataframe thead th {\n",
       "        text-align: right;\n",
       "    }\n",
       "</style>\n",
       "<table border=\"1\" class=\"dataframe\">\n",
       "  <thead>\n",
       "    <tr style=\"text-align: right;\">\n",
       "      <th></th>\n",
       "      <th>bet</th>\n",
       "      <th>cf</th>\n",
       "      <th>description</th>\n",
       "      <th>updated_at</th>\n",
       "      <th>updated_at_msc</th>\n",
       "      <th>blocked</th>\n",
       "      <th>event_id</th>\n",
       "      <th>event_name</th>\n",
       "      <th>team1</th>\n",
       "      <th>team2</th>\n",
       "      <th>league_name</th>\n",
       "      <th>url</th>\n",
       "    </tr>\n",
       "  </thead>\n",
       "  <tbody>\n",
       "    <tr>\n",
       "      <th>0</th>\n",
       "      <td>TOTALS__OVER(3.5)</td>\n",
       "      <td>3.1</td>\n",
       "      <td>Тотал \\/ Основное время \\/ Бол</td>\n",
       "      <td>1644815638</td>\n",
       "      <td>2022-02-14 05:13:58</td>\n",
       "      <td>0</td>\n",
       "      <td>LIGSC0C70D3904CA</td>\n",
       "      <td>Боруссия Дортмунд II vs Веен Висбаден</td>\n",
       "      <td>Боруссия Дортмунд II</td>\n",
       "      <td>Веен Висбаден</td>\n",
       "      <td>Германия. 3-я бундеслига</td>\n",
       "      <td>https://www.ligastavok.ru/bets/live/popular/germaniia-3-ia-bundesliga-id-268/3-ia-bundesliga-id-262/game-name-id-16611371</td>\n",
       "    </tr>\n",
       "    <tr>\n",
       "      <th>0</th>\n",
       "      <td>HALF_01__TOTALS__ODD</td>\n",
       "      <td>2.17</td>\n",
       "      <td>Чет\\/нечет \\/ 1-й тайм \\/ Нечет</td>\n",
       "      <td>1644815478</td>\n",
       "      <td>2022-02-14 05:11:18</td>\n",
       "      <td>0</td>\n",
       "      <td>LIGSCC07488DD2F7</td>\n",
       "      <td>Фарул Констанца vs Арджеш</td>\n",
       "      <td>Фарул Констанца</td>\n",
       "      <td>Арджеш</td>\n",
       "      <td>Румыния. 1-я лига</td>\n",
       "      <td>https://www.ligastavok.ru/bets/live/popular/rumyniia-1-ia-liga-id-352/1-ia-liga-id-15561/game-name-id-16601645</td>\n",
       "    </tr>\n",
       "    <tr>\n",
       "      <th>0</th>\n",
       "      <td>HANDICAP__P1(0)</td>\n",
       "      <td>1.3</td>\n",
       "      <td>Фора \\/ Основное время \\/ 1</td>\n",
       "      <td>1644815608</td>\n",
       "      <td>2022-02-14 05:13:28</td>\n",
       "      <td>0</td>\n",
       "      <td>LIGSCACA1BFE28E0</td>\n",
       "      <td>Арау vs Виль 1900</td>\n",
       "      <td>Арау</td>\n",
       "      <td>Виль 1900</td>\n",
       "      <td>Швейцария. Челлендж лига</td>\n",
       "      <td>https://www.ligastavok.ru/bets/live/popular/shveitcariia-chellendzh-liga-id-386/chellendzh-liga-id-7113/game-name-id-16611334</td>\n",
       "    </tr>\n",
       "  </tbody>\n",
       "</table>\n",
       "</div>"
      ],
      "text/plain": [
       "                    bet    cf                      description  updated_at  \\\n",
       "0     TOTALS__OVER(3.5)   3.1   Тотал \\/ Основное время \\/ Бол  1644815638   \n",
       "0  HALF_01__TOTALS__ODD  2.17  Чет\\/нечет \\/ 1-й тайм \\/ Нечет  1644815478   \n",
       "0       HANDICAP__P1(0)   1.3      Фора \\/ Основное время \\/ 1  1644815608   \n",
       "\n",
       "        updated_at_msc blocked          event_id  \\\n",
       "0  2022-02-14 05:13:58       0  LIGSC0C70D3904CA   \n",
       "0  2022-02-14 05:11:18       0  LIGSCC07488DD2F7   \n",
       "0  2022-02-14 05:13:28       0  LIGSCACA1BFE28E0   \n",
       "\n",
       "                              event_name                 team1          team2  \\\n",
       "0  Боруссия Дортмунд II vs Веен Висбаден  Боруссия Дортмунд II  Веен Висбаден   \n",
       "0              Фарул Констанца vs Арджеш       Фарул Констанца         Арджеш   \n",
       "0                      Арау vs Виль 1900                  Арау      Виль 1900   \n",
       "\n",
       "                league_name  \\\n",
       "0  Германия. 3-я бундеслига   \n",
       "0         Румыния. 1-я лига   \n",
       "0  Швейцария. Челлендж лига   \n",
       "\n",
       "                                                                                                                             url  \n",
       "0      https://www.ligastavok.ru/bets/live/popular/germaniia-3-ia-bundesliga-id-268/3-ia-bundesliga-id-262/game-name-id-16611371  \n",
       "0                 https://www.ligastavok.ru/bets/live/popular/rumyniia-1-ia-liga-id-352/1-ia-liga-id-15561/game-name-id-16601645  \n",
       "0  https://www.ligastavok.ru/bets/live/popular/shveitcariia-chellendzh-liga-id-386/chellendzh-liga-id-7113/game-name-id-16611334  "
      ]
     },
     "execution_count": 38,
     "metadata": {},
     "output_type": "execute_result"
    }
   ],
   "source": [
    "daily_df.sample(3)"
   ]
  },
  {
   "cell_type": "code",
   "execution_count": 43,
   "id": "42c8da3d",
   "metadata": {},
   "outputs": [
    {
     "name": "stdout",
     "output_type": "stream",
     "text": [
      "Ready\n"
     ]
    }
   ],
   "source": [
    "url='195K7SPoxAkAYSgp4wTVOTGIaHXCbhii7O3HM5nSmnjg'\n",
    "gd.write(url, 'liga_stavok_bets!A2:ZZ90000', daily_df)"
   ]
  },
  {
   "cell_type": "code",
   "execution_count": null,
   "id": "e9e0e867",
   "metadata": {},
   "outputs": [],
   "source": []
  },
  {
   "cell_type": "code",
   "execution_count": null,
   "id": "7ebe8cc4",
   "metadata": {},
   "outputs": [],
   "source": []
  }
 ],
 "metadata": {
  "kernelspec": {
   "display_name": "Python 3",
   "language": "python",
   "name": "python3"
  },
  "language_info": {
   "codemirror_mode": {
    "name": "ipython",
    "version": 3
   },
   "file_extension": ".py",
   "mimetype": "text/x-python",
   "name": "python",
   "nbconvert_exporter": "python",
   "pygments_lexer": "ipython3",
   "version": "3.8.8"
  }
 },
 "nbformat": 4,
 "nbformat_minor": 5
}
